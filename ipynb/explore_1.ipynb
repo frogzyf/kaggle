{
 "cells": [
  {
   "cell_type": "code",
   "execution_count": 1,
   "metadata": {},
   "outputs": [],
   "source": [
    "import numpy as np\n",
    "import pandas as pd\n",
    "import json\n",
    "import matplotlib.pyplot as plt"
   ]
  },
  {
   "cell_type": "code",
   "execution_count": 2,
   "metadata": {},
   "outputs": [
    {
     "name": "stdout",
     "output_type": "stream",
     "text": [
      "Mem. usage decreased to 778.73 Mb (18.2% reduction)\n",
      "Mem. usage decreased to  0.49 Mb (48.2% reduction)\n",
      "CPU times: user 49.5 s, sys: 18.8 s, total: 1min 8s\n",
      "Wall time: 1min 15s\n"
     ]
    }
   ],
   "source": [
    "%%time\n",
    "root = \"/Users/a117/Desktop/kaggle/data-science-bowl-2019/data/\"\n",
    "train = pd.read_csv(root + \"train.csv\")\n",
    "train_labels = pd.read_csv(root + \"train_labels.csv\")\n",
    "\n",
    "# Function to reduce DF size\n",
    "\n",
    "def reduce_mem_usage(df, verbose=True):\n",
    "    numerics = ['int16', 'int32', 'int64', 'float16', 'float32', 'float64']\n",
    "    start_mem = df.memory_usage().sum() / 1024**2\n",
    "    for col in df.columns:\n",
    "        col_type = df[col].dtypes\n",
    "        if col_type in numerics:\n",
    "            c_min = df[col].min()\n",
    "            c_max = df[col].max()\n",
    "            if str(col_type)[:3] == 'int':\n",
    "                if (c_min > np.iinfo(np.int8).min) and  \\\n",
    "                        (c_max < np.iinfo(np.int8).max):\n",
    "                    df[col] = df[col].astype(np.int8)\n",
    "\n",
    "                elif (c_min > np.iinfo(np.int16).min) and \\\n",
    "                        (c_max < np.iinfo(np.int16).max):\n",
    "                    df[col] = df[col].astype(np.int16)\n",
    "\n",
    "                elif (c_min > np.iinfo(np.int32).min) and \\\n",
    "                        (c_max < np.iinfo(np.int32).max):\n",
    "                    df[col] = df[col].astype(np.int32)\n",
    "\n",
    "                elif (c_min > np.iinfo(np.int64).min) and \\\n",
    "                        (c_max < np.iinfo(np.int64).max):\n",
    "                    df[col] = df[col].astype(np.int64)\n",
    "\n",
    "            else:\n",
    "                if (c_min > np.finfo(np.float16).min) and \\\n",
    "                        (c_max < np.finfo(np.float16).max):\n",
    "                    df[col] = df[col].astype(np.float16)\n",
    "\n",
    "                elif (c_min > np.finfo(np.float32).min) and \\\n",
    "                        (c_max < np.finfo(np.float32).max):\n",
    "                    df[col] = df[col].astype(np.float32)\n",
    "\n",
    "                elif (c_min > np.finfo(np.float64).min) and \\\n",
    "                        (c_max < np.finfo(np.float64).max):\n",
    "                    df[col] = df[col].astype(np.float64)\n",
    "\n",
    "    end_mem = df.memory_usage().sum() / 1024**2\n",
    "\n",
    "    if verbose: print('Mem. usage decreased to {:5.2f} Mb ({:.1f}% '\n",
    "                      'reduction)'.format(\n",
    "                        end_mem, 100 * (start_mem - end_mem) / start_mem))\n",
    "\n",
    "    return df\n",
    "\n",
    "# 减少内存使用\n",
    "train = reduce_mem_usage(train)\n",
    "train_labels = reduce_mem_usage(train_labels)"
   ]
  },
  {
   "cell_type": "markdown",
   "metadata": {},
   "source": [
    "# 以前100000行数据为例探索算法"
   ]
  },
  {
   "cell_type": "code",
   "execution_count": 3,
   "metadata": {},
   "outputs": [
    {
     "name": "stdout",
     "output_type": "stream",
     "text": [
      "CPU times: user 3.03 ms, sys: 3.74 ms, total: 6.77 ms\n",
      "Wall time: 5.18 ms\n"
     ]
    }
   ],
   "source": [
    "%%time\n",
    "train_example = train[:100000]\n",
    "\n",
    "train_columns = train.columns"
   ]
  },
  {
   "cell_type": "markdown",
   "metadata": {},
   "source": [
    "# 原来的方法"
   ]
  },
  {
   "cell_type": "code",
   "execution_count": 4,
   "metadata": {},
   "outputs": [],
   "source": [
    "def clean_train(df, new_df):\n",
    "    for index, row in df.iterrows():\n",
    "        if row['event_code'] == 4100 and row['title'].startswith(('Cart', 'Cauldron', 'Chest', 'Mushroom')):\n",
    "            new_df = new_df.append(row)\n",
    "        elif row['event_code'] == 4110 and row['title'].startswith('Bird'):\n",
    "            new_df = new_df.append(row)\n",
    "    \n",
    "    return new_df"
   ]
  },
  {
   "cell_type": "code",
   "execution_count": 5,
   "metadata": {},
   "outputs": [
    {
     "name": "stdout",
     "output_type": "stream",
     "text": [
      "CPU times: user 15 s, sys: 91.4 ms, total: 15.1 s\n",
      "Wall time: 15.3 s\n"
     ]
    },
    {
     "data": {
      "text/plain": [
       "333"
      ]
     },
     "execution_count": 5,
     "metadata": {},
     "output_type": "execute_result"
    }
   ],
   "source": [
    "%%time\n",
    "train_example_4100or4110assessment = pd.DataFrame(columns=train_columns)\n",
    "train_example_4100or4110assessment = clean_train(train_example, train_example_4100or4110assessment)\n",
    "len(train_example_4100or4110assessment)"
   ]
  },
  {
   "cell_type": "code",
   "execution_count": 6,
   "metadata": {},
   "outputs": [
    {
     "name": "stdout",
     "output_type": "stream",
     "text": [
      "CPU times: user 102 ms, sys: 4.53 ms, total: 107 ms\n",
      "Wall time: 110 ms\n"
     ]
    },
    {
     "data": {
      "text/plain": [
       "333"
      ]
     },
     "execution_count": 6,
     "metadata": {},
     "output_type": "execute_result"
    }
   ],
   "source": [
    "%%time\n",
    "train_example_result = train_example[((train_example.event_code == 4100)\n",
    "              & (train_example.title.str.startswith(('Cart', 'Cauldron', 'Chest', 'Mushroom'))))\n",
    "             |((train_example.event_code == 4110)\n",
    "              & (train_example.title.str.startswith('Bird')))]\n",
    "\n",
    "len(train_example_result)"
   ]
  },
  {
   "cell_type": "markdown",
   "metadata": {},
   "source": [
    "# 整体时间测试"
   ]
  },
  {
   "cell_type": "code",
   "execution_count": 7,
   "metadata": {},
   "outputs": [
    {
     "name": "stdout",
     "output_type": "stream",
     "text": [
      "CPU times: user 9.91 s, sys: 294 ms, total: 10.2 s\n",
      "Wall time: 10.3 s\n"
     ]
    },
    {
     "data": {
      "text/plain": [
       "41549"
      ]
     },
     "execution_count": 7,
     "metadata": {},
     "output_type": "execute_result"
    }
   ],
   "source": [
    "%%time\n",
    "train_new = train[((train.event_code == 4100)\n",
    "              & (train.title.str.startswith(('Cart', 'Cauldron', 'Chest', 'Mushroom'))))\n",
    "             |((train.event_code == 4110)\n",
    "              & (train.title.str.startswith('Bird')))]\n",
    "len(train_new)"
   ]
  },
  {
   "cell_type": "markdown",
   "metadata": {},
   "source": [
    "# 尝试对event_data进行拆分"
   ]
  },
  {
   "cell_type": "code",
   "execution_count": 8,
   "metadata": {},
   "outputs": [
    {
     "name": "stdout",
     "output_type": "stream",
     "text": [
      "CPU times: user 15.1 s, sys: 301 ms, total: 15.4 s\n",
      "Wall time: 16 s\n"
     ]
    },
    {
     "data": {
      "text/plain": [
       "100000"
      ]
     },
     "execution_count": 8,
     "metadata": {},
     "output_type": "execute_result"
    }
   ],
   "source": [
    "%%time\n",
    "dict_event_data = {index: json.loads(row['event_data']) for index, row in train_example.iterrows()}\n",
    "\n",
    "len(dict_event_data)"
   ]
  },
  {
   "cell_type": "code",
   "execution_count": null,
   "metadata": {},
   "outputs": [],
   "source": [
    "%%time\n",
    "dict_event_data_all = {index: json.loads(row['event_data']) for index, row in train.iterrows()}\n",
    "\n",
    "len(dict_event_data_all)"
   ]
  },
  {
   "cell_type": "code",
   "execution_count": null,
   "metadata": {},
   "outputs": [],
   "source": [
    "dict_event_data_all"
   ]
  },
  {
   "cell_type": "code",
   "execution_count": null,
   "metadata": {},
   "outputs": [],
   "source": [
    "%%time\n",
    "dict_data_len = {keys: len(values) for keys, values in dict_event_data.items()}\n",
    "\n",
    "dict_data_len_all = {keys: len(values) for keys, values in dict_event_data_all.items()}"
   ]
  },
  {
   "cell_type": "code",
   "execution_count": null,
   "metadata": {},
   "outputs": [],
   "source": [
    "%%time\n",
    "sorted(dict_data_len_all.items(), key=lambda item:item[1], reverse=True)"
   ]
  },
  {
   "cell_type": "code",
   "execution_count": null,
   "metadata": {},
   "outputs": [],
   "source": [
    "dict_event_data_all[1788]"
   ]
  },
  {
   "cell_type": "code",
   "execution_count": null,
   "metadata": {},
   "outputs": [],
   "source": [
    "dict_event_data_all[22203]"
   ]
  },
  {
   "cell_type": "code",
   "execution_count": null,
   "metadata": {},
   "outputs": [],
   "source": [
    "dict_event_data_all[75502]"
   ]
  },
  {
   "cell_type": "code",
   "execution_count": null,
   "metadata": {},
   "outputs": [],
   "source": [
    "dict_event_data_all[80149]"
   ]
  },
  {
   "cell_type": "markdown",
   "metadata": {},
   "source": [
    "每个event_data中的keys并不相同，比如1788和22203，虽然都有12个key，但1788中有dinosaur、house等，22203中则有weight、destination等。当然也有几部分是相同的，比如correct、event_count、game_time、event_code。\n",
    "\n",
    "我想要探索event_data中不同行的字典数据中的keys出现的频次，找出一些共有的keys来，作为模型的候选考虑因素。"
   ]
  },
  {
   "cell_type": "code",
   "execution_count": null,
   "metadata": {},
   "outputs": [],
   "source": [
    "count_keys = {}\n",
    "for key, value in dict_event_data.items():\n",
    "    for k, v in value.items():\n",
    "        if k not in count_keys.keys():\n",
    "            count_keys[k] = 1\n",
    "        else:\n",
    "            count_keys[k] += 1\n",
    "            \n",
    "count_keys"
   ]
  },
  {
   "cell_type": "code",
   "execution_count": null,
   "metadata": {},
   "outputs": [],
   "source": [
    "count_keys_all = {}\n",
    "for key, value in dict_event_data_all.items():\n",
    "    for k, v in value.items():\n",
    "        if k not in count_keys_all.keys():\n",
    "            count_keys_all[k] = 1\n",
    "        else:\n",
    "            count_keys_all[k] += 1\n",
    "            \n",
    "count_keys_all"
   ]
  },
  {
   "cell_type": "code",
   "execution_count": null,
   "metadata": {},
   "outputs": [],
   "source": [
    "%%time\n",
    "sorted(count_keys_all.items(), key=lambda item:item[1], reverse=True)"
   ]
  },
  {
   "cell_type": "code",
   "execution_count": null,
   "metadata": {},
   "outputs": [],
   "source": [
    "%matplotlib notebook\n",
    "fig, ax = plt.subplots()\n",
    "b = ax.barh(range(len(count_keys_all.keys())), count_keys_all.values())"
   ]
  },
  {
   "cell_type": "code",
   "execution_count": null,
   "metadata": {},
   "outputs": [],
   "source": [
    "train.head()"
   ]
  },
  {
   "cell_type": "code",
   "execution_count": null,
   "metadata": {
    "scrolled": true
   },
   "outputs": [],
   "source": [
    "%%time\n",
    "new_columns = ['event_id', 'installation_id', 'game_session', \n",
    "               'timestamp', 'title', 'type', 'world', 'event_code', \n",
    "               'event_count', 'game_time', 'event_data']\n",
    "\n",
    "new_train = train[new_columns]\n",
    "new_train.sort_values(by=['installation_id', 'game_session', 'timestamp']).head(50)"
   ]
  },
  {
   "cell_type": "code",
   "execution_count": null,
   "metadata": {
    "scrolled": true
   },
   "outputs": [],
   "source": [
    "%%time\n",
    "new_train_labels = train_labels[['installation_id', 'game_session', 'title', 'num_correct',\n",
    "                                'num_incorrect', 'accuracy', 'accuracy_group']]\n",
    "\n",
    "new_train_labels.sort_values(by=['installation_id', 'game_session']).head(50)"
   ]
  },
  {
   "cell_type": "code",
   "execution_count": null,
   "metadata": {},
   "outputs": [],
   "source": [
    "len(new_train[(new_train['installation_id'] == '0006a69f')\n",
    "         & (new_train['event_code'] == 4100)])"
   ]
  },
  {
   "cell_type": "code",
   "execution_count": null,
   "metadata": {},
   "outputs": [],
   "source": []
  }
 ],
 "metadata": {
  "kernelspec": {
   "display_name": "Python 3",
   "language": "python",
   "name": "python3"
  },
  "language_info": {
   "codemirror_mode": {
    "name": "ipython",
    "version": 3
   },
   "file_extension": ".py",
   "mimetype": "text/x-python",
   "name": "python",
   "nbconvert_exporter": "python",
   "pygments_lexer": "ipython3",
   "version": "3.7.0"
  }
 },
 "nbformat": 4,
 "nbformat_minor": 2
}
